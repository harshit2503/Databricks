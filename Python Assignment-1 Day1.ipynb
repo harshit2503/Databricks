{
 "cells": [
  {
   "cell_type": "code",
   "execution_count": 0,
   "metadata": {
    "application/vnd.databricks.v1+cell": {
     "cellMetadata": {
      "byteLimit": 2048000,
      "rowLimit": 10000
     },
     "inputWidgets": {},
     "nuid": "7068b490-cf17-49ce-a911-3be6166c50a1",
     "showTitle": false,
     "tableResultSettingsMap": {},
     "title": ""
    }
   },
   "outputs": [
    {
     "output_type": "stream",
     "name": "stdout",
     "output_type": "stream",
     "text": [
      "1800\n300.0\n400\n500\n[250, 300, 400, 150, 500, 200, 350]\n[500, 400, 350, 300, 250, 200, 150]\nNone\n"
     ]
    }
   ],
   "source": [
    "sales = [250, 300, 400, 150, 500, 200]\n",
    "\n",
    "# Tot sales\n",
    "print(sum(sales))\n",
    "\n",
    "# Avg\n",
    "avg = sum(sales)/len(sales)\n",
    "print(avg)\n",
    "\n",
    "# greater than 300\n",
    "for sale in sales:\n",
    "    if sale > 300:\n",
    "        print(sale)\n",
    "\n",
    "# Add 350 \n",
    "sales.append(350)\n",
    "print(sales)\n",
    "\n",
    "# sort in descending order\n",
    "sales.sort(reverse=True)\n",
    "print(sales)\n",
    "\n",
    "# prints None as it modifies actual list\n",
    "print(sales.sort(reverse=True))"
   ]
  },
  {
   "cell_type": "code",
   "execution_count": 0,
   "metadata": {
    "application/vnd.databricks.v1+cell": {
     "cellMetadata": {},
     "inputWidgets": {},
     "nuid": "8899cd78-55df-49d0-afb5-13ea0c5fe8d2",
     "showTitle": false,
     "tableResultSettingsMap": {},
     "title": ""
    }
   },
   "outputs": [],
   "source": [
    "products = {\n",
    "    \"Laptop\": 70000,\n",
    "    \"Mouse\": 500,\n",
    "    \"Keyboard\": 1500,\n",
    "    \"Monitor\": 12000\n",
    "}\n",
    "\n",
    "# Print price\n",
    "print(products[\"Monitor\"])\n",
    "\n",
    "# Add a new product\n",
    "products[\"Webcam\"] = 3000\n",
    "\n",
    "# Update \"Mouse\" to 550\n",
    "products[\"Mouse\"] = 550\n",
    "\n",
    "# Print all product names and prices\n",
    "for i in products:\n",
    "    print(i + \":\" + str(products[i]))"
   ]
  }
 ],
 "metadata": {
  "application/vnd.databricks.v1+notebook": {
   "computePreferences": null,
   "dashboards": [],
   "environmentMetadata": {
    "base_environment": "",
    "environment_version": "1"
   },
   "inputWidgetPreferences": null,
   "language": "python",
   "notebookMetadata": {
    "pythonIndentUnit": 4
   },
   "notebookName": "Assignment 23-04-25",
   "widgets": {}
  }
 },
 "nbformat": 4,
 "nbformat_minor": 0
}