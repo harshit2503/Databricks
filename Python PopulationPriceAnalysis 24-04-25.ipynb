{
 "cells": [
  {
   "cell_type": "code",
   "execution_count": 0,
   "metadata": {
    "application/vnd.databricks.v1+cell": {
     "cellMetadata": {
      "byteLimit": 2048000,
      "rowLimit": 10000
     },
     "inputWidgets": {},
     "nuid": "3d345d20-057a-42f7-af73-aae3d65f5682",
     "showTitle": false,
     "tableResultSettingsMap": {},
     "title": ""
    }
   },
   "outputs": [
    {
     "output_type": "stream",
     "name": "stdout",
     "output_type": "stream",
     "text": [
      "+---------+-------------+-------+----------+------------------------+-----------------------+\n|2014 rank|         City|  State|State Code|2014 Population estimate|2015 median sales price|\n+---------+-------------+-------+----------+------------------------+-----------------------+\n|      101|   Birmingham|Alabama|        AL|                  212247|                  162.9|\n|      125|   Huntsville|Alabama|        AL|                  188226|                  157.7|\n|      122|       Mobile|Alabama|        AL|                  194675|                  122.5|\n|      114|   Montgomery|Alabama|        AL|                  200481|                  129.0|\n|       64|Anchorage[19]| Alaska|        AK|                  301010|                   null|\n+---------+-------------+-------+----------+------------------------+-----------------------+\nonly showing top 5 rows\n\n"
     ]
    }
   ],
   "source": [
    "# Load it into a DataFrame\n",
    "df = spark.read.csv(\"/databricks-datasets/samples/population-vs-price/data_geo.csv\", header=True, inferSchema=True)\n",
    "df.show(5)"
   ]
  },
  {
   "cell_type": "code",
   "execution_count": 0,
   "metadata": {
    "application/vnd.databricks.v1+cell": {
     "cellMetadata": {
      "byteLimit": 2048000,
      "rowLimit": 10000
     },
     "inputWidgets": {},
     "nuid": "388d1baf-ee6c-4f18-ba3a-ce3721bf35fa",
     "showTitle": false,
     "tableResultSettingsMap": {},
     "title": ""
    }
   },
   "outputs": [
    {
     "output_type": "display_data",
     "data": {
      "text/plain": [
       "\u001B[0;31m---------------------------------------------------------------------------\u001B[0m\n",
       "\u001B[0;31mAttributeError\u001B[0m                            Traceback (most recent call last)\n",
       "File \u001B[0;32m<command-927143160712520>:1\u001B[0m\n",
       "\u001B[0;32m----> 1\u001B[0m \u001B[43mdf\u001B[49m\u001B[38;5;241;43m.\u001B[39;49m\u001B[43mshape\u001B[49m()\n",
       "\n",
       "File \u001B[0;32m/databricks/spark/python/pyspark/instrumentation_utils.py:48\u001B[0m, in \u001B[0;36m_wrap_function.<locals>.wrapper\u001B[0;34m(*args, **kwargs)\u001B[0m\n",
       "\u001B[1;32m     46\u001B[0m start \u001B[38;5;241m=\u001B[39m time\u001B[38;5;241m.\u001B[39mperf_counter()\n",
       "\u001B[1;32m     47\u001B[0m \u001B[38;5;28;01mtry\u001B[39;00m:\n",
       "\u001B[0;32m---> 48\u001B[0m     res \u001B[38;5;241m=\u001B[39m \u001B[43mfunc\u001B[49m\u001B[43m(\u001B[49m\u001B[38;5;241;43m*\u001B[39;49m\u001B[43margs\u001B[49m\u001B[43m,\u001B[49m\u001B[43m \u001B[49m\u001B[38;5;241;43m*\u001B[39;49m\u001B[38;5;241;43m*\u001B[39;49m\u001B[43mkwargs\u001B[49m\u001B[43m)\u001B[49m\n",
       "\u001B[1;32m     49\u001B[0m     logger\u001B[38;5;241m.\u001B[39mlog_success(\n",
       "\u001B[1;32m     50\u001B[0m         module_name, class_name, function_name, time\u001B[38;5;241m.\u001B[39mperf_counter() \u001B[38;5;241m-\u001B[39m start, signature\n",
       "\u001B[1;32m     51\u001B[0m     )\n",
       "\u001B[1;32m     52\u001B[0m     \u001B[38;5;28;01mreturn\u001B[39;00m res\n",
       "\n",
       "File \u001B[0;32m/databricks/spark/python/pyspark/sql/dataframe.py:2964\u001B[0m, in \u001B[0;36mDataFrame.__getattr__\u001B[0;34m(self, name)\u001B[0m\n",
       "\u001B[1;32m   2934\u001B[0m \u001B[38;5;124;03m\"\"\"Returns the :class:`Column` denoted by ``name``.\u001B[39;00m\n",
       "\u001B[1;32m   2935\u001B[0m \n",
       "\u001B[1;32m   2936\u001B[0m \u001B[38;5;124;03m.. versionadded:: 1.3.0\u001B[39;00m\n",
       "\u001B[0;32m   (...)\u001B[0m\n",
       "\u001B[1;32m   2961\u001B[0m \u001B[38;5;124;03m+---+\u001B[39;00m\n",
       "\u001B[1;32m   2962\u001B[0m \u001B[38;5;124;03m\"\"\"\u001B[39;00m\n",
       "\u001B[1;32m   2963\u001B[0m \u001B[38;5;28;01mif\u001B[39;00m name \u001B[38;5;129;01mnot\u001B[39;00m \u001B[38;5;129;01min\u001B[39;00m \u001B[38;5;28mself\u001B[39m\u001B[38;5;241m.\u001B[39mcolumns:\n",
       "\u001B[0;32m-> 2964\u001B[0m     \u001B[38;5;28;01mraise\u001B[39;00m \u001B[38;5;167;01mAttributeError\u001B[39;00m(\n",
       "\u001B[1;32m   2965\u001B[0m         \u001B[38;5;124m\"\u001B[39m\u001B[38;5;124m'\u001B[39m\u001B[38;5;132;01m%s\u001B[39;00m\u001B[38;5;124m'\u001B[39m\u001B[38;5;124m object has no attribute \u001B[39m\u001B[38;5;124m'\u001B[39m\u001B[38;5;132;01m%s\u001B[39;00m\u001B[38;5;124m'\u001B[39m\u001B[38;5;124m\"\u001B[39m \u001B[38;5;241m%\u001B[39m (\u001B[38;5;28mself\u001B[39m\u001B[38;5;241m.\u001B[39m\u001B[38;5;18m__class__\u001B[39m\u001B[38;5;241m.\u001B[39m\u001B[38;5;18m__name__\u001B[39m, name)\n",
       "\u001B[1;32m   2966\u001B[0m     )\n",
       "\u001B[1;32m   2967\u001B[0m jc \u001B[38;5;241m=\u001B[39m \u001B[38;5;28mself\u001B[39m\u001B[38;5;241m.\u001B[39m_jdf\u001B[38;5;241m.\u001B[39mapply(name)\n",
       "\u001B[1;32m   2968\u001B[0m \u001B[38;5;28;01mreturn\u001B[39;00m Column(jc)\n",
       "\n",
       "\u001B[0;31mAttributeError\u001B[0m: 'DataFrame' object has no attribute 'shape'"
      ]
     },
     "metadata": {
      "application/vnd.databricks.v1+output": {
       "arguments": {},
       "data": "\u001B[0;31m---------------------------------------------------------------------------\u001B[0m\n\u001B[0;31mAttributeError\u001B[0m                            Traceback (most recent call last)\nFile \u001B[0;32m<command-927143160712520>:1\u001B[0m\n\u001B[0;32m----> 1\u001B[0m \u001B[43mdf\u001B[49m\u001B[38;5;241;43m.\u001B[39;49m\u001B[43mshape\u001B[49m()\n\nFile \u001B[0;32m/databricks/spark/python/pyspark/instrumentation_utils.py:48\u001B[0m, in \u001B[0;36m_wrap_function.<locals>.wrapper\u001B[0;34m(*args, **kwargs)\u001B[0m\n\u001B[1;32m     46\u001B[0m start \u001B[38;5;241m=\u001B[39m time\u001B[38;5;241m.\u001B[39mperf_counter()\n\u001B[1;32m     47\u001B[0m \u001B[38;5;28;01mtry\u001B[39;00m:\n\u001B[0;32m---> 48\u001B[0m     res \u001B[38;5;241m=\u001B[39m \u001B[43mfunc\u001B[49m\u001B[43m(\u001B[49m\u001B[38;5;241;43m*\u001B[39;49m\u001B[43margs\u001B[49m\u001B[43m,\u001B[49m\u001B[43m \u001B[49m\u001B[38;5;241;43m*\u001B[39;49m\u001B[38;5;241;43m*\u001B[39;49m\u001B[43mkwargs\u001B[49m\u001B[43m)\u001B[49m\n\u001B[1;32m     49\u001B[0m     logger\u001B[38;5;241m.\u001B[39mlog_success(\n\u001B[1;32m     50\u001B[0m         module_name, class_name, function_name, time\u001B[38;5;241m.\u001B[39mperf_counter() \u001B[38;5;241m-\u001B[39m start, signature\n\u001B[1;32m     51\u001B[0m     )\n\u001B[1;32m     52\u001B[0m     \u001B[38;5;28;01mreturn\u001B[39;00m res\n\nFile \u001B[0;32m/databricks/spark/python/pyspark/sql/dataframe.py:2964\u001B[0m, in \u001B[0;36mDataFrame.__getattr__\u001B[0;34m(self, name)\u001B[0m\n\u001B[1;32m   2934\u001B[0m \u001B[38;5;124;03m\"\"\"Returns the :class:`Column` denoted by ``name``.\u001B[39;00m\n\u001B[1;32m   2935\u001B[0m \n\u001B[1;32m   2936\u001B[0m \u001B[38;5;124;03m.. versionadded:: 1.3.0\u001B[39;00m\n\u001B[0;32m   (...)\u001B[0m\n\u001B[1;32m   2961\u001B[0m \u001B[38;5;124;03m+---+\u001B[39;00m\n\u001B[1;32m   2962\u001B[0m \u001B[38;5;124;03m\"\"\"\u001B[39;00m\n\u001B[1;32m   2963\u001B[0m \u001B[38;5;28;01mif\u001B[39;00m name \u001B[38;5;129;01mnot\u001B[39;00m \u001B[38;5;129;01min\u001B[39;00m \u001B[38;5;28mself\u001B[39m\u001B[38;5;241m.\u001B[39mcolumns:\n\u001B[0;32m-> 2964\u001B[0m     \u001B[38;5;28;01mraise\u001B[39;00m \u001B[38;5;167;01mAttributeError\u001B[39;00m(\n\u001B[1;32m   2965\u001B[0m         \u001B[38;5;124m\"\u001B[39m\u001B[38;5;124m'\u001B[39m\u001B[38;5;132;01m%s\u001B[39;00m\u001B[38;5;124m'\u001B[39m\u001B[38;5;124m object has no attribute \u001B[39m\u001B[38;5;124m'\u001B[39m\u001B[38;5;132;01m%s\u001B[39;00m\u001B[38;5;124m'\u001B[39m\u001B[38;5;124m\"\u001B[39m \u001B[38;5;241m%\u001B[39m (\u001B[38;5;28mself\u001B[39m\u001B[38;5;241m.\u001B[39m\u001B[38;5;18m__class__\u001B[39m\u001B[38;5;241m.\u001B[39m\u001B[38;5;18m__name__\u001B[39m, name)\n\u001B[1;32m   2966\u001B[0m     )\n\u001B[1;32m   2967\u001B[0m jc \u001B[38;5;241m=\u001B[39m \u001B[38;5;28mself\u001B[39m\u001B[38;5;241m.\u001B[39m_jdf\u001B[38;5;241m.\u001B[39mapply(name)\n\u001B[1;32m   2968\u001B[0m \u001B[38;5;28;01mreturn\u001B[39;00m Column(jc)\n\n\u001B[0;31mAttributeError\u001B[0m: 'DataFrame' object has no attribute 'shape'",
       "errorSummary": "<span class='ansi-red-fg'>AttributeError</span>: 'DataFrame' object has no attribute 'shape'",
       "errorTraceType": "ansi",
       "metadata": {},
       "type": "ipynbError"
      }
     },
     "output_type": "display_data"
    }
   ],
   "source": [
    "df.shape()\n"
   ]
  },
  {
   "cell_type": "code",
   "execution_count": 0,
   "metadata": {
    "application/vnd.databricks.v1+cell": {
     "cellMetadata": {
      "byteLimit": 2048000,
      "rowLimit": 10000
     },
     "inputWidgets": {},
     "nuid": "f4ba5294-bac6-401b-9f3a-b6f2349ab422",
     "showTitle": false,
     "tableResultSettingsMap": {},
     "title": ""
    }
   },
   "outputs": [
    {
     "output_type": "stream",
     "name": "stdout",
     "output_type": "stream",
     "text": [
      "root\n |-- 2014 rank: integer (nullable = true)\n |-- City: string (nullable = true)\n |-- State: string (nullable = true)\n |-- State Code: string (nullable = true)\n |-- 2014 Population estimate: integer (nullable = true)\n |-- 2015 median sales price: double (nullable = true)\n\n+---------+-------------+-------+----------+------------------------+-----------------------+\n|2014 rank|         City|  State|State Code|2014 Population estimate|2015 median sales price|\n+---------+-------------+-------+----------+------------------------+-----------------------+\n|      101|   Birmingham|Alabama|        AL|                  212247|                  162.9|\n|      125|   Huntsville|Alabama|        AL|                  188226|                  157.7|\n|      122|       Mobile|Alabama|        AL|                  194675|                  122.5|\n|      114|   Montgomery|Alabama|        AL|                  200481|                  129.0|\n|       64|Anchorage[19]| Alaska|        AK|                  301010|                   null|\n+---------+-------------+-------+----------+------------------------+-----------------------+\nonly showing top 5 rows\n\n"
     ]
    }
   ],
   "source": [
    "file_path = \"/databricks-datasets/samples/population-vs-price/data_geo.csv\"\n",
    "df = spark.read.csv(file_path, header=True, inferSchema=True)\n",
    "df.printSchema()\n",
    "df.show(5)"
   ]
  },
  {
   "cell_type": "code",
   "execution_count": 0,
   "metadata": {
    "application/vnd.databricks.v1+cell": {
     "cellMetadata": {
      "byteLimit": 2048000,
      "rowLimit": 10000
     },
     "inputWidgets": {},
     "nuid": "2cdf055c-d6aa-4e3b-b108-cdbe3fc94063",
     "showTitle": false,
     "tableResultSettingsMap": {},
     "title": ""
    }
   },
   "outputs": [
    {
     "output_type": "stream",
     "name": "stdout",
     "output_type": "stream",
     "text": [
      "+-------------+-------+----------+------------------------+-----------------------+\n|         City|  State|State Code|2014 Population estimate|2015 median sales price|\n+-------------+-------+----------+------------------------+-----------------------+\n|   Birmingham|Alabama|        AL|                  212247|                  162.9|\n|   Huntsville|Alabama|        AL|                  188226|                  157.7|\n|       Mobile|Alabama|        AL|                  194675|                  122.5|\n|   Montgomery|Alabama|        AL|                  200481|                  129.0|\n|Anchorage[19]| Alaska|        AK|                  301010|                   null|\n+-------------+-------+----------+------------------------+-----------------------+\nonly showing top 5 rows\n\n"
     ]
    }
   ],
   "source": [
    "# Select relevant columns for analysis\n",
    "df_selected = df.select(\n",
    "    \"City\", \"State\", \"State Code\", \n",
    "    \"2014 Population estimate\", \"2015 median sales price\"\n",
    ")\n",
    "df_selected.show(5)"
   ]
  },
  {
   "cell_type": "code",
   "execution_count": 0,
   "metadata": {
    "application/vnd.databricks.v1+cell": {
     "cellMetadata": {
      "byteLimit": 2048000,
      "rowLimit": 10000
     },
     "inputWidgets": {},
     "nuid": "4f49c2d8-efe6-4fc1-891b-3d40d8779d8e",
     "showTitle": false,
     "tableResultSettingsMap": {},
     "title": ""
    }
   },
   "outputs": [
    {
     "output_type": "stream",
     "name": "stdout",
     "output_type": "stream",
     "text": [
      "+---------------+------------+----------+------------------------+-----------------------+\n|           City|       State|State Code|2014 Population estimate|2015 median sales price|\n+---------------+------------+----------+------------------------+-----------------------+\n|    New York[6]|    New York|        NY|                 8491079|                  388.6|\n|    Los Angeles|  California|        CA|                 3928864|                  434.7|\n|        Chicago|    Illinois|        IL|                 2722389|                  192.5|\n|     Houston[7]|       Texas|        TX|                 2239558|                  200.3|\n|Philadelphia[8]|Pennsylvania|        PA|                 1560297|                  204.9|\n|        Phoenix|     Arizona|        AZ|                 1537058|                  206.1|\n|    San Antonio|       Texas|        TX|                 1436697|                  184.7|\n|      San Diego|  California|        CA|                 1381069|                  510.3|\n|         Dallas|       Texas|        TX|                 1281047|                  192.5|\n|       San Jose|  California|        CA|                 1015785|                  900.0|\n+---------------+------------+----------+------------------------+-----------------------+\nonly showing top 10 rows\n\n"
     ]
    }
   ],
   "source": [
    "df_selected.orderBy(\"2014 Population estimate\", ascending=False).show(10)\n"
   ]
  },
  {
   "cell_type": "code",
   "execution_count": 0,
   "metadata": {
    "application/vnd.databricks.v1+cell": {
     "cellMetadata": {
      "byteLimit": 2048000,
      "rowLimit": 10000
     },
     "inputWidgets": {},
     "nuid": "c78e448f-c04a-4fdf-bf0e-30007b195945",
     "showTitle": false,
     "tableResultSettingsMap": {},
     "title": ""
    }
   },
   "outputs": [
    {
     "output_type": "display_data",
     "data": {
      "text/html": [
       "<style scoped>\n",
       "  .table-result-container {\n",
       "    max-height: 300px;\n",
       "    overflow: auto;\n",
       "  }\n",
       "  table, th, td {\n",
       "    border: 1px solid black;\n",
       "    border-collapse: collapse;\n",
       "  }\n",
       "  th, td {\n",
       "    padding: 5px;\n",
       "  }\n",
       "  th {\n",
       "    text-align: left;\n",
       "  }\n",
       "</style><div class='table-result-container'><table class='table-result'><thead style='background-color: white'><tr><th>City</th><th>State</th><th>State Code</th><th>2014 Population estimate</th><th>2015 median sales price</th></tr></thead><tbody><tr><td>New York[6]</td><td>New York</td><td>NY</td><td>8491079</td><td>388.6</td></tr><tr><td>Los Angeles</td><td>California</td><td>CA</td><td>3928864</td><td>434.7</td></tr><tr><td>Chicago</td><td>Illinois</td><td>IL</td><td>2722389</td><td>192.5</td></tr><tr><td>Houston[7]</td><td>Texas</td><td>TX</td><td>2239558</td><td>200.3</td></tr><tr><td>Philadelphia[8]</td><td>Pennsylvania</td><td>PA</td><td>1560297</td><td>204.9</td></tr><tr><td>Phoenix</td><td>Arizona</td><td>AZ</td><td>1537058</td><td>206.1</td></tr><tr><td>San Antonio</td><td>Texas</td><td>TX</td><td>1436697</td><td>184.7</td></tr><tr><td>San Diego</td><td>California</td><td>CA</td><td>1381069</td><td>510.3</td></tr><tr><td>Dallas</td><td>Texas</td><td>TX</td><td>1281047</td><td>192.5</td></tr><tr><td>San Jose</td><td>California</td><td>CA</td><td>1015785</td><td>900.0</td></tr></tbody></table></div>"
      ]
     },
     "metadata": {
      "application/vnd.databricks.v1+output": {
       "addedWidgets": {},
       "aggData": [],
       "aggError": "",
       "aggOverflow": false,
       "aggSchema": [],
       "aggSeriesLimitReached": false,
       "aggType": "",
       "arguments": {},
       "columnCustomDisplayInfos": {},
       "data": [
        [
         "New York[6]",
         "New York",
         "NY",
         8491079,
         388.6
        ],
        [
         "Los Angeles",
         "California",
         "CA",
         3928864,
         434.7
        ],
        [
         "Chicago",
         "Illinois",
         "IL",
         2722389,
         192.5
        ],
        [
         "Houston[7]",
         "Texas",
         "TX",
         2239558,
         200.3
        ],
        [
         "Philadelphia[8]",
         "Pennsylvania",
         "PA",
         1560297,
         204.9
        ],
        [
         "Phoenix",
         "Arizona",
         "AZ",
         1537058,
         206.1
        ],
        [
         "San Antonio",
         "Texas",
         "TX",
         1436697,
         184.7
        ],
        [
         "San Diego",
         "California",
         "CA",
         1381069,
         510.3
        ],
        [
         "Dallas",
         "Texas",
         "TX",
         1281047,
         192.5
        ],
        [
         "San Jose",
         "California",
         "CA",
         1015785,
         900.0
        ]
       ],
       "datasetInfos": [],
       "dbfsResultPath": null,
       "isJsonSchema": true,
       "metadata": {},
       "overflow": false,
       "plotOptions": {
        "customPlotOptions": {},
        "displayType": "table",
        "pivotAggregation": null,
        "pivotColumns": null,
        "xColumns": null,
        "yColumns": null
       },
       "removedWidgets": [],
       "schema": [
        {
         "metadata": "{}",
         "name": "City",
         "type": "\"string\""
        },
        {
         "metadata": "{}",
         "name": "State",
         "type": "\"string\""
        },
        {
         "metadata": "{}",
         "name": "State Code",
         "type": "\"string\""
        },
        {
         "metadata": "{}",
         "name": "2014 Population estimate",
         "type": "\"integer\""
        },
        {
         "metadata": "{}",
         "name": "2015 median sales price",
         "type": "\"double\""
        }
       ],
       "type": "table"
      }
     },
     "output_type": "display_data"
    },
    {
     "output_type": "display_data",
     "data": {
      "text/plain": [
       "Databricks visualization. Run in Databricks to view."
      ]
     },
     "metadata": {
      "application/vnd.databricks.v1.subcommand+json": {
       "baseErrorDetails": null,
       "bindings": {},
       "collapsed": false,
       "command": "%python\n__backend_agg_display_orig = display\n__backend_agg_dfs = []\ndef __backend_agg_display_new(df):\n    __backend_agg_df_modules = [\"pandas.core.frame\", \"databricks.koalas.frame\", \"pyspark.sql.dataframe\", \"pyspark.pandas.frame\", \"pyspark.sql.connect.dataframe\"]\n    if (type(df).__module__ in __backend_agg_df_modules and type(df).__name__ == 'DataFrame') or isinstance(df, list):\n        __backend_agg_dfs.append(df)\n\ndisplay = __backend_agg_display_new\n\ndef __backend_agg_user_code_fn():\n    import base64\n    exec(base64.standard_b64decode(\"IyBTdGVwIDE6IEdldCB0b3AgMTAgbW9zdCBwb3B1bG91cyBjaXRpZXMKdG9wMTBfcG9wdWxvdXMgPSBkZl9zZWxlY3RlZC5vcmRlckJ5KCIyMDE0IFBvcHVsYXRpb24gZXN0aW1hdGUiLCBhc2NlbmRpbmc9RmFsc2UpLmxpbWl0KDEwKQoKIyBTdGVwIDI6IERpc3BsYXkgdGhlIHJlc3VsdCAoRGF0YWJyaWNrcyB3aWxsIGFsbG93IHlvdSB0byBzd2l0Y2ggdG8gYSBjaGFydCB2aWV3KQpkaXNwbGF5KHRvcDEwX3BvcHVsb3VzKQo=\").decode())\n\ntry:\n    # run user code\n    __backend_agg_user_code_fn()\n\n    #reset display function\n    display = __backend_agg_display_orig\n\n    if len(__backend_agg_dfs) > 0:\n        # create a temp view\n        if type(__backend_agg_dfs[0]).__module__ == \"databricks.koalas.frame\":\n            # koalas dataframe\n            __backend_agg_dfs[0].to_spark().createOrReplaceTempView(\"DatabricksVieweacff50\")\n        elif type(__backend_agg_dfs[0]).__module__ == \"pandas.core.frame\" or isinstance(__backend_agg_dfs[0], list):\n            # pandas dataframe\n            spark.createDataFrame(__backend_agg_dfs[0]).createOrReplaceTempView(\"DatabricksVieweacff50\")\n        else:\n            __backend_agg_dfs[0].createOrReplaceTempView(\"DatabricksVieweacff50\")\n        #run backend agg\n        display(spark.sql(\"\"\"WITH q AS (select * from DatabricksVieweacff50) SELECT `City` FROM q GROUP BY `City`\"\"\"))\n    else:\n        displayHTML(\"dataframe no longer exists. If you're using dataframe.display(), use display(dataframe) instead.\")\n\n\nfinally:\n    spark.sql(\"drop view if exists DatabricksVieweacff50\")\n    display = __backend_agg_display_orig\n    del __backend_agg_display_new\n    del __backend_agg_display_orig\n    del __backend_agg_dfs\n    del __backend_agg_user_code_fn\n\n",
       "commandTitle": "Visualization 2",
       "commandType": "auto",
       "commandVersion": 0,
       "commentThread": [],
       "commentsVisible": false,
       "contentSha256Hex": null,
       "customPlotOptions": {
        "redashChart": [
         {
          "key": "type",
          "value": "CHART"
         },
         {
          "key": "options",
          "value": {
           "alignYAxesAtZero": true,
           "coefficient": 1,
           "columnConfigurationMap": {
            "x": {
             "column": "City",
             "id": "column_678d1e0454"
            },
            "y": [
             {
              "column": "2014 Population estimate",
              "id": "column_678d1e0456",
              "transform": "SUM"
             }
            ]
           },
           "dateTimeFormat": "DD/MM/YYYY HH:mm",
           "direction": {
            "type": "counterclockwise"
           },
           "error_y": {
            "type": "data",
            "visible": true
           },
           "globalSeriesType": "column",
           "isAggregationOn": true,
           "legend": {
            "traceorder": "normal"
           },
           "missingValuesAsZero": true,
           "numberFormat": "0,0.[00000]",
           "percentFormat": "0[.]00%",
           "series": {
            "error_y": {
             "type": "data",
             "visible": true
            },
            "stacking": null
           },
           "seriesOptions": {
            "column_678d1e0456": {
             "type": "column",
             "yAxis": 0
            }
           },
           "showDataLabels": false,
           "sizemode": "diameter",
           "sortX": true,
           "sortY": true,
           "swappedAxes": false,
           "textFormat": "",
           "useAggregationsUi": true,
           "valuesOptions": {},
           "version": 2,
           "xAxis": {
            "labels": {
             "enabled": true
            },
            "type": "-"
           },
           "yAxis": [
            {
             "type": "-"
            },
            {
             "opposite": true,
             "type": "-"
            }
           ]
          }
         }
        ]
       },
       "datasetPreviewNameToCmdIdMap": {},
       "diffDeletes": [],
       "diffInserts": [],
       "displayType": "redashChart",
       "error": null,
       "errorDetails": null,
       "errorSummary": null,
       "errorTraceType": null,
       "finishTime": 0,
       "globalVars": {},
       "guid": "",
       "height": "auto",
       "hideCommandCode": false,
       "hideCommandResult": false,
       "iPythonMetadata": null,
       "inputWidgets": {},
       "isLockedInExamMode": false,
       "latestUser": "a user",
       "latestUserId": null,
       "listResultMetadata": null,
       "metadata": {},
       "nuid": "37fdd4c1-b5de-472d-a740-776052e7194f",
       "origId": 0,
       "parentHierarchy": [],
       "pivotAggregation": null,
       "pivotColumns": null,
       "position": 7.0,
       "resultDbfsErrorMessage": null,
       "resultDbfsStatus": "INLINED_IN_TREE",
       "results": null,
       "showCommandTitle": false,
       "startTime": 0,
       "state": "input",
       "streamStates": {},
       "subcommandOptions": {
        "queryPlan": {
         "groups": [
          {
           "column": "City",
           "type": "column"
          }
         ],
         "selects": [
          {
           "column": "City",
           "type": "column"
          },
          {
           "alias": "column_678d1e0456",
           "args": [
            {
             "column": "2014 Population estimate",
             "type": "column"
            }
           ],
           "function": "SUM",
           "type": "function"
          }
         ]
        }
       },
       "submitTime": 0,
       "subtype": "tableResultSubCmd.visualization",
       "tableResultIndex": 0,
       "tableResultSettingsMap": {},
       "useConsistentColors": false,
       "version": "CommandV1",
       "width": "auto",
       "workflows": [],
       "xColumns": null,
       "yColumns": null
      }
     },
     "output_type": "display_data"
    }
   ],
   "source": [
    "# Step 1: Get top 10 most populous cities\n",
    "top10_populous = df_selected.orderBy(\"2014 Population estimate\", ascending=False).limit(10)\n",
    "\n",
    "# Step 2: Display the result (Databricks will allow you to switch to a chart view)\n",
    "display(top10_populous)\n"
   ]
  },
  {
   "cell_type": "code",
   "execution_count": 0,
   "metadata": {
    "application/vnd.databricks.v1+cell": {
     "cellMetadata": {
      "byteLimit": 2048000,
      "rowLimit": 10000
     },
     "inputWidgets": {},
     "nuid": "2a205cc9-a68b-47d6-b710-974473a4e7b1",
     "showTitle": false,
     "tableResultSettingsMap": {},
     "title": ""
    }
   },
   "outputs": [
    {
     "output_type": "stream",
     "name": "stdout",
     "output_type": "stream",
     "text": [
      "+--------------------+----------------------------+\n|               State|avg(2015 median sales price)|\n+--------------------+----------------------------+\n|                Utah|                       243.3|\n|             Hawai'i|                       699.3|\n|           Minnesota|                       209.4|\n|                Ohio|          112.86666666666667|\n|            Arkansas|                       131.8|\n|              Oregon|          231.53333333333333|\n|               Texas|           173.4777777777778|\n|        North Dakota|                       180.0|\n|        Pennsylvania|                       183.8|\n|         Connecticut|          250.13333333333333|\n|            Nebraska|          149.14999999999998|\n|              Nevada|                       237.3|\n|          Washington|          266.29999999999995|\n|            Illinois|          122.87499999999999|\n|            Oklahoma|                       145.1|\n|District of Columbia|                       367.8|\n|              Alaska|                        null|\n|          New Mexico|                       172.2|\n|            Missouri|                      134.75|\n|        Rhode Island|                       233.3|\n+--------------------+----------------------------+\nonly showing top 20 rows\n\n"
     ]
    }
   ],
   "source": [
    "from pyspark.sql.functions import avg\n",
    "df_average=df_selected.groupBy(\"State\").agg(avg(\"2015 median sales price\")).show()\n",
    "display(df_average)"
   ]
  },
  {
   "cell_type": "code",
   "execution_count": 0,
   "metadata": {
    "application/vnd.databricks.v1+cell": {
     "cellMetadata": {
      "byteLimit": 2048000,
      "rowLimit": 10000
     },
     "inputWidgets": {},
     "nuid": "62ab923a-34f2-4c5c-adf2-5e77561f8299",
     "showTitle": false,
     "tableResultSettingsMap": {},
     "title": ""
    }
   },
   "outputs": [
    {
     "output_type": "display_data",
     "data": {
      "text/html": [
       "<style scoped>\n",
       "  .table-result-container {\n",
       "    max-height: 300px;\n",
       "    overflow: auto;\n",
       "  }\n",
       "  table, th, td {\n",
       "    border: 1px solid black;\n",
       "    border-collapse: collapse;\n",
       "  }\n",
       "  th, td {\n",
       "    padding: 5px;\n",
       "  }\n",
       "  th {\n",
       "    text-align: left;\n",
       "  }\n",
       "</style><div class='table-result-container'><table class='table-result'><thead style='background-color: white'><tr><th>State</th><th>avg(2015 median sales price)</th></tr></thead><tbody><tr><td>Utah</td><td>243.3</td></tr><tr><td>Hawai'i</td><td>699.3</td></tr><tr><td>Minnesota</td><td>209.4</td></tr><tr><td>Ohio</td><td>112.86666666666667</td></tr><tr><td>Arkansas</td><td>131.8</td></tr><tr><td>Oregon</td><td>231.53333333333333</td></tr><tr><td>Texas</td><td>173.4777777777778</td></tr><tr><td>North Dakota</td><td>180.0</td></tr><tr><td>Pennsylvania</td><td>183.8</td></tr><tr><td>Connecticut</td><td>250.13333333333333</td></tr><tr><td>Nebraska</td><td>149.14999999999998</td></tr><tr><td>Nevada</td><td>237.3</td></tr><tr><td>Washington</td><td>266.29999999999995</td></tr><tr><td>Illinois</td><td>122.87499999999999</td></tr><tr><td>Oklahoma</td><td>145.1</td></tr><tr><td>District of Columbia</td><td>367.8</td></tr><tr><td>Alaska</td><td>null</td></tr><tr><td>New Mexico</td><td>172.2</td></tr><tr><td>Missouri</td><td>134.75</td></tr><tr><td>Rhode Island</td><td>233.3</td></tr><tr><td>Georgia</td><td>158.0</td></tr><tr><td>Montana</td><td>null</td></tr><tr><td>Michigan</td><td>114.6</td></tr><tr><td>Virginia</td><td>201.25</td></tr><tr><td>North Carolina</td><td>176.05714285714288</td></tr><tr><td>Kansas</td><td>115.65</td></tr><tr><td>New Jersey</td><td>350.8</td></tr><tr><td>Maryland</td><td>223.1</td></tr><tr><td>Alabama</td><td>143.025</td></tr><tr><td>Arizona</td><td>192.1</td></tr><tr><td>Iowa</td><td>133.15</td></tr><tr><td>Massachusetts</td><td>261.8</td></tr><tr><td>Kentucky</td><td>141.14999999999998</td></tr><tr><td>Louisiana</td><td>164.39999999999998</td></tr><tr><td>Mississippi</td><td>154.1</td></tr><tr><td>New Hampshire</td><td>237.4</td></tr><tr><td>Tennessee</td><td>152.825</td></tr><tr><td>Florida</td><td>178.77777777777777</td></tr><tr><td>Indiana</td><td>122.75</td></tr><tr><td>Idaho</td><td>178.7</td></tr><tr><td>South Carolina</td><td>null</td></tr><tr><td>South Dakota</td><td>159.5</td></tr><tr><td>California</td><td>547.9714285714286</td></tr><tr><td>New York</td><td>185.775</td></tr><tr><td>Wisconsin</td><td>210.8</td></tr><tr><td>Colorado</td><td>333.46666666666664</td></tr></tbody></table></div>"
      ]
     },
     "metadata": {
      "application/vnd.databricks.v1+output": {
       "addedWidgets": {},
       "aggData": [],
       "aggError": "",
       "aggOverflow": false,
       "aggSchema": [],
       "aggSeriesLimitReached": false,
       "aggType": "",
       "arguments": {},
       "columnCustomDisplayInfos": {},
       "data": [
        [
         "Utah",
         243.3
        ],
        [
         "Hawai'i",
         699.3
        ],
        [
         "Minnesota",
         209.4
        ],
        [
         "Ohio",
         112.86666666666667
        ],
        [
         "Arkansas",
         131.8
        ],
        [
         "Oregon",
         231.53333333333333
        ],
        [
         "Texas",
         173.4777777777778
        ],
        [
         "North Dakota",
         180.0
        ],
        [
         "Pennsylvania",
         183.8
        ],
        [
         "Connecticut",
         250.13333333333333
        ],
        [
         "Nebraska",
         149.14999999999998
        ],
        [
         "Nevada",
         237.3
        ],
        [
         "Washington",
         266.29999999999995
        ],
        [
         "Illinois",
         122.87499999999999
        ],
        [
         "Oklahoma",
         145.1
        ],
        [
         "District of Columbia",
         367.8
        ],
        [
         "Alaska",
         null
        ],
        [
         "New Mexico",
         172.2
        ],
        [
         "Missouri",
         134.75
        ],
        [
         "Rhode Island",
         233.3
        ],
        [
         "Georgia",
         158.0
        ],
        [
         "Montana",
         null
        ],
        [
         "Michigan",
         114.6
        ],
        [
         "Virginia",
         201.25
        ],
        [
         "North Carolina",
         176.05714285714288
        ],
        [
         "Kansas",
         115.65
        ],
        [
         "New Jersey",
         350.8
        ],
        [
         "Maryland",
         223.1
        ],
        [
         "Alabama",
         143.025
        ],
        [
         "Arizona",
         192.1
        ],
        [
         "Iowa",
         133.15
        ],
        [
         "Massachusetts",
         261.8
        ],
        [
         "Kentucky",
         141.14999999999998
        ],
        [
         "Louisiana",
         164.39999999999998
        ],
        [
         "Mississippi",
         154.1
        ],
        [
         "New Hampshire",
         237.4
        ],
        [
         "Tennessee",
         152.825
        ],
        [
         "Florida",
         178.77777777777777
        ],
        [
         "Indiana",
         122.75
        ],
        [
         "Idaho",
         178.7
        ],
        [
         "South Carolina",
         null
        ],
        [
         "South Dakota",
         159.5
        ],
        [
         "California",
         547.9714285714286
        ],
        [
         "New York",
         185.775
        ],
        [
         "Wisconsin",
         210.8
        ],
        [
         "Colorado",
         333.46666666666664
        ]
       ],
       "datasetInfos": [],
       "dbfsResultPath": null,
       "isJsonSchema": true,
       "metadata": {},
       "overflow": false,
       "plotOptions": {
        "customPlotOptions": {},
        "displayType": "table",
        "pivotAggregation": null,
        "pivotColumns": null,
        "xColumns": null,
        "yColumns": null
       },
       "removedWidgets": [],
       "schema": [
        {
         "metadata": "{}",
         "name": "State",
         "type": "\"string\""
        },
        {
         "metadata": "{}",
         "name": "avg(2015 median sales price)",
         "type": "\"double\""
        }
       ],
       "type": "table"
      }
     },
     "output_type": "display_data"
    },
    {
     "output_type": "display_data",
     "data": {
      "text/plain": [
       "Databricks visualization. Run in Databricks to view."
      ]
     },
     "metadata": {
      "application/vnd.databricks.v1.subcommand+json": {
       "baseErrorDetails": null,
       "bindings": {},
       "collapsed": false,
       "command": "%python\n__backend_agg_display_orig = display\n__backend_agg_dfs = []\ndef __backend_agg_display_new(df):\n    __backend_agg_df_modules = [\"pandas.core.frame\", \"databricks.koalas.frame\", \"pyspark.sql.dataframe\", \"pyspark.pandas.frame\", \"pyspark.sql.connect.dataframe\"]\n    if (type(df).__module__ in __backend_agg_df_modules and type(df).__name__ == 'DataFrame') or isinstance(df, list):\n        __backend_agg_dfs.append(df)\n\ndisplay = __backend_agg_display_new\n\ndef __backend_agg_user_code_fn():\n    import base64\n    exec(base64.standard_b64decode(\"ZnJvbSBweXNwYXJrLnNxbC5mdW5jdGlvbnMgaW1wb3J0IGF2ZwpkZl9hdmVyYWdlPWRmX3NlbGVjdGVkLmdyb3VwQnkoIlN0YXRlIikuYWdnKGF2ZygiMjAxNSBtZWRpYW4gc2FsZXMgcHJpY2UiKSkKZGlzcGxheShkZl9hdmVyYWdlKQ==\").decode())\n\ntry:\n    # run user code\n    __backend_agg_user_code_fn()\n\n    #reset display function\n    display = __backend_agg_display_orig\n\n    if len(__backend_agg_dfs) > 0:\n        # create a temp view\n        if type(__backend_agg_dfs[0]).__module__ == \"databricks.koalas.frame\":\n            # koalas dataframe\n            __backend_agg_dfs[0].to_spark().createOrReplaceTempView(\"DatabricksView5b573f4\")\n        elif type(__backend_agg_dfs[0]).__module__ == \"pandas.core.frame\" or isinstance(__backend_agg_dfs[0], list):\n            # pandas dataframe\n            spark.createDataFrame(__backend_agg_dfs[0]).createOrReplaceTempView(\"DatabricksView5b573f4\")\n        else:\n            __backend_agg_dfs[0].createOrReplaceTempView(\"DatabricksView5b573f4\")\n        #run backend agg\n        display(spark.sql(\"\"\"WITH q AS (select * from DatabricksView5b573f4) SELECT `State`,SUM(`avg(2015 median sales price)`) `column_4228a49d40` FROM q GROUP BY `State`\"\"\"))\n    else:\n        displayHTML(\"dataframe no longer exists. If you're using dataframe.display(), use display(dataframe) instead.\")\n\n\nfinally:\n    spark.sql(\"drop view if exists DatabricksView5b573f4\")\n    display = __backend_agg_display_orig\n    del __backend_agg_display_new\n    del __backend_agg_display_orig\n    del __backend_agg_dfs\n    del __backend_agg_user_code_fn\n\n",
       "commandTitle": "Visualization 1",
       "commandType": "auto",
       "commandVersion": 0,
       "commentThread": [],
       "commentsVisible": false,
       "contentSha256Hex": null,
       "customPlotOptions": {
        "redashChart": [
         {
          "key": "type",
          "value": "CHART"
         },
         {
          "key": "options",
          "value": {
           "alignYAxesAtZero": true,
           "coefficient": 1,
           "columnConfigurationMap": {
            "x": {
             "column": "State",
             "id": "column_4228a49d38"
            },
            "y": [
             {
              "column": "avg(2015 median sales price)",
              "id": "column_4228a49d40",
              "transform": "SUM"
             }
            ]
           },
           "dateTimeFormat": "DD/MM/YYYY HH:mm",
           "direction": {
            "type": "counterclockwise"
           },
           "error_y": {
            "type": "data",
            "visible": true
           },
           "globalSeriesType": "pie",
           "isAggregationOn": true,
           "legend": {
            "traceorder": "normal"
           },
           "missingValuesAsZero": true,
           "numberFormat": "0,0.[00000]",
           "percentFormat": "0[.]00%",
           "series": {
            "error_y": {
             "type": "data",
             "visible": true
            },
            "stacking": null
           },
           "seriesOptions": {
            "column_4228a49d40": {
             "type": "pie",
             "yAxis": 0
            }
           },
           "showDataLabels": true,
           "sizemode": "diameter",
           "sortX": true,
           "sortY": true,
           "swappedAxes": false,
           "textFormat": "",
           "useAggregationsUi": true,
           "valuesOptions": {},
           "version": 2,
           "xAxis": {
            "labels": {
             "enabled": true
            },
            "type": "-"
           },
           "yAxis": [
            {
             "type": "-"
            },
            {
             "opposite": true,
             "type": "-"
            }
           ]
          }
         }
        ]
       },
       "datasetPreviewNameToCmdIdMap": {},
       "diffDeletes": [],
       "diffInserts": [],
       "displayType": "redashChart",
       "error": null,
       "errorDetails": null,
       "errorSummary": null,
       "errorTraceType": null,
       "finishTime": 0,
       "globalVars": {},
       "guid": "",
       "height": "auto",
       "hideCommandCode": false,
       "hideCommandResult": false,
       "iPythonMetadata": null,
       "inputWidgets": {},
       "isLockedInExamMode": false,
       "latestUser": "a user",
       "latestUserId": null,
       "listResultMetadata": null,
       "metadata": {},
       "nuid": "faea5780-2215-4016-9699-de9546ec3193",
       "origId": 0,
       "parentHierarchy": [],
       "pivotAggregation": null,
       "pivotColumns": null,
       "position": 8.0,
       "resultDbfsErrorMessage": null,
       "resultDbfsStatus": "INLINED_IN_TREE",
       "results": null,
       "showCommandTitle": false,
       "startTime": 0,
       "state": "input",
       "streamStates": {},
       "subcommandOptions": {
        "queryPlan": {
         "groups": [
          {
           "column": "State",
           "type": "column"
          }
         ],
         "selects": [
          {
           "column": "State",
           "type": "column"
          },
          {
           "alias": "column_4228a49d40",
           "args": [
            {
             "column": "avg(2015 median sales price)",
             "type": "column"
            }
           ],
           "function": "SUM",
           "type": "function"
          }
         ]
        }
       },
       "submitTime": 0,
       "subtype": "tableResultSubCmd.visualization",
       "tableResultIndex": 0,
       "tableResultSettingsMap": {},
       "useConsistentColors": false,
       "version": "CommandV1",
       "width": "auto",
       "workflows": [],
       "xColumns": null,
       "yColumns": null
      }
     },
     "output_type": "display_data"
    }
   ],
   "source": [
    "from pyspark.sql.functions import avg\n",
    "df_average=df_selected.groupBy(\"State\").agg(avg(\"2015 median sales price\"))\n",
    "display(df_average)"
   ]
  },
  {
   "cell_type": "code",
   "execution_count": 0,
   "metadata": {
    "application/vnd.databricks.v1+cell": {
     "cellMetadata": {
      "byteLimit": 2048000,
      "rowLimit": 10000
     },
     "inputWidgets": {},
     "nuid": "63a3ee83-2a83-42da-9408-d0a6bbf0cebb",
     "showTitle": false,
     "tableResultSettingsMap": {},
     "title": ""
    }
   },
   "outputs": [
    {
     "output_type": "display_data",
     "data": {
      "text/html": [
       "<style scoped>\n",
       "  .table-result-container {\n",
       "    max-height: 300px;\n",
       "    overflow: auto;\n",
       "  }\n",
       "  table, th, td {\n",
       "    border: 1px solid black;\n",
       "    border-collapse: collapse;\n",
       "  }\n",
       "  th, td {\n",
       "    padding: 5px;\n",
       "  }\n",
       "  th {\n",
       "    text-align: left;\n",
       "  }\n",
       "</style><div class='table-result-container'><table class='table-result'><thead style='background-color: white'><tr><th>City</th><th>State</th><th>State Code</th><th>2014 Population estimate</th><th>2015 median sales price</th></tr></thead><tbody><tr><td>New York[6]</td><td>New York</td><td>NY</td><td>8491079</td><td>388.6</td></tr><tr><td>Los Angeles</td><td>California</td><td>CA</td><td>3928864</td><td>434.7</td></tr><tr><td>Chicago</td><td>Illinois</td><td>IL</td><td>2722389</td><td>192.5</td></tr><tr><td>Houston[7]</td><td>Texas</td><td>TX</td><td>2239558</td><td>200.3</td></tr><tr><td>Philadelphia[8]</td><td>Pennsylvania</td><td>PA</td><td>1560297</td><td>204.9</td></tr><tr><td>Phoenix</td><td>Arizona</td><td>AZ</td><td>1537058</td><td>206.1</td></tr><tr><td>San Antonio</td><td>Texas</td><td>TX</td><td>1436697</td><td>184.7</td></tr><tr><td>San Diego</td><td>California</td><td>CA</td><td>1381069</td><td>510.3</td></tr><tr><td>Dallas</td><td>Texas</td><td>TX</td><td>1281047</td><td>192.5</td></tr><tr><td>San Jose</td><td>California</td><td>CA</td><td>1015785</td><td>900.0</td></tr></tbody></table></div>"
      ]
     },
     "metadata": {
      "application/vnd.databricks.v1+output": {
       "addedWidgets": {},
       "aggData": [],
       "aggError": "",
       "aggOverflow": false,
       "aggSchema": [],
       "aggSeriesLimitReached": false,
       "aggType": "",
       "arguments": {},
       "columnCustomDisplayInfos": {},
       "data": [
        [
         "New York[6]",
         "New York",
         "NY",
         8491079,
         388.6
        ],
        [
         "Los Angeles",
         "California",
         "CA",
         3928864,
         434.7
        ],
        [
         "Chicago",
         "Illinois",
         "IL",
         2722389,
         192.5
        ],
        [
         "Houston[7]",
         "Texas",
         "TX",
         2239558,
         200.3
        ],
        [
         "Philadelphia[8]",
         "Pennsylvania",
         "PA",
         1560297,
         204.9
        ],
        [
         "Phoenix",
         "Arizona",
         "AZ",
         1537058,
         206.1
        ],
        [
         "San Antonio",
         "Texas",
         "TX",
         1436697,
         184.7
        ],
        [
         "San Diego",
         "California",
         "CA",
         1381069,
         510.3
        ],
        [
         "Dallas",
         "Texas",
         "TX",
         1281047,
         192.5
        ],
        [
         "San Jose",
         "California",
         "CA",
         1015785,
         900.0
        ]
       ],
       "datasetInfos": [],
       "dbfsResultPath": null,
       "isJsonSchema": true,
       "metadata": {},
       "overflow": false,
       "plotOptions": {
        "customPlotOptions": {},
        "displayType": "table",
        "pivotAggregation": null,
        "pivotColumns": null,
        "xColumns": null,
        "yColumns": null
       },
       "removedWidgets": [],
       "schema": [
        {
         "metadata": "{}",
         "name": "City",
         "type": "\"string\""
        },
        {
         "metadata": "{}",
         "name": "State",
         "type": "\"string\""
        },
        {
         "metadata": "{}",
         "name": "State Code",
         "type": "\"string\""
        },
        {
         "metadata": "{}",
         "name": "2014 Population estimate",
         "type": "\"integer\""
        },
        {
         "metadata": "{}",
         "name": "2015 median sales price",
         "type": "\"double\""
        }
       ],
       "type": "table"
      }
     },
     "output_type": "display_data"
    },
    {
     "output_type": "display_data",
     "data": {
      "text/plain": [
       "Databricks visualization. Run in Databricks to view."
      ]
     },
     "metadata": {
      "application/vnd.databricks.v1.subcommand+json": {
       "baseErrorDetails": null,
       "bindings": {},
       "collapsed": false,
       "command": "%python\n__backend_agg_display_orig = display\n__backend_agg_dfs = []\ndef __backend_agg_display_new(df):\n    __backend_agg_df_modules = [\"pandas.core.frame\", \"databricks.koalas.frame\", \"pyspark.sql.dataframe\", \"pyspark.pandas.frame\", \"pyspark.sql.connect.dataframe\"]\n    if (type(df).__module__ in __backend_agg_df_modules and type(df).__name__ == 'DataFrame') or isinstance(df, list):\n        __backend_agg_dfs.append(df)\n\ndisplay = __backend_agg_display_new\n\ndef __backend_agg_user_code_fn():\n    import base64\n    exec(base64.standard_b64decode(\"ZmlsdGVyZWRfZGYgPSBkZl9zZWxlY3RlZC5maWx0ZXIoZGZfc2VsZWN0ZWRbIjIwMTQgUG9wdWxhdGlvbiBlc3RpbWF0ZSJdID4gMTAwMDAwMCkKCiMgR2V0IHRvcCAxMCBiYXNlZCBvbiBwb3B1bGF0aW9uCnRvcDEwX21pbGxpb25fcGx1cyA9IGZpbHRlcmVkX2RmLm9yZGVyQnkoIjIwMTQgUG9wdWxhdGlvbiBlc3RpbWF0ZSIsIGFzY2VuZGluZz1GYWxzZSkubGltaXQoMTApCgojIERpc3BsYXkgdGhlIHJlc3VsdCBpbiBEYXRhYnJpY2tzCmRpc3BsYXkodG9wMTBfbWlsbGlvbl9wbHVzKQ==\").decode())\n\ntry:\n    # run user code\n    __backend_agg_user_code_fn()\n\n    #reset display function\n    display = __backend_agg_display_orig\n\n    if len(__backend_agg_dfs) > 0:\n        # create a temp view\n        if type(__backend_agg_dfs[0]).__module__ == \"databricks.koalas.frame\":\n            # koalas dataframe\n            __backend_agg_dfs[0].to_spark().createOrReplaceTempView(\"DatabricksViewe326e6c\")\n        elif type(__backend_agg_dfs[0]).__module__ == \"pandas.core.frame\" or isinstance(__backend_agg_dfs[0], list):\n            # pandas dataframe\n            spark.createDataFrame(__backend_agg_dfs[0]).createOrReplaceTempView(\"DatabricksViewe326e6c\")\n        else:\n            __backend_agg_dfs[0].createOrReplaceTempView(\"DatabricksViewe326e6c\")\n        #run backend agg\n        display(spark.sql(\"\"\"WITH q AS (select * from DatabricksViewe326e6c) SELECT `City`,SUM(`2014 Population estimate`) `column_33b8638227` FROM q GROUP BY `City`\"\"\"))\n    else:\n        displayHTML(\"dataframe no longer exists. If you're using dataframe.display(), use display(dataframe) instead.\")\n\n\nfinally:\n    spark.sql(\"drop view if exists DatabricksViewe326e6c\")\n    display = __backend_agg_display_orig\n    del __backend_agg_display_new\n    del __backend_agg_display_orig\n    del __backend_agg_dfs\n    del __backend_agg_user_code_fn\n\n",
       "commandTitle": "Visualization 1",
       "commandType": "auto",
       "commandVersion": 0,
       "commentThread": [],
       "commentsVisible": false,
       "contentSha256Hex": null,
       "customPlotOptions": {
        "redashChart": [
         {
          "key": "type",
          "value": "CHART"
         },
         {
          "key": "options",
          "value": {
           "alignYAxesAtZero": true,
           "coefficient": 1,
           "columnConfigurationMap": {
            "x": {
             "column": "City",
             "id": "column_33b8638222"
            },
            "y": [
             {
              "column": "2014 Population estimate",
              "id": "column_33b8638227",
              "transform": "SUM"
             }
            ]
           },
           "dateTimeFormat": "DD/MM/YYYY HH:mm",
           "direction": {
            "type": "counterclockwise"
           },
           "error_y": {
            "type": "data",
            "visible": true
           },
           "globalSeriesType": "column",
           "isAggregationOn": true,
           "legend": {
            "traceorder": "normal"
           },
           "missingValuesAsZero": true,
           "numberFormat": "0,0.[00000]",
           "percentFormat": "0[.]00%",
           "series": {
            "error_y": {
             "type": "data",
             "visible": true
            },
            "stacking": null
           },
           "seriesOptions": {
            "column_33b8638224": {
             "type": "column",
             "yAxis": 0
            },
            "column_33b8638227": {
             "type": "column",
             "yAxis": 0
            }
           },
           "showDataLabels": false,
           "sizemode": "diameter",
           "sortX": true,
           "sortY": true,
           "swappedAxes": false,
           "textFormat": "",
           "useAggregationsUi": true,
           "valuesOptions": {},
           "version": 2,
           "xAxis": {
            "labels": {
             "enabled": true
            },
            "type": "-"
           },
           "yAxis": [
            {
             "type": "-"
            },
            {
             "opposite": true,
             "type": "-"
            }
           ]
          }
         }
        ]
       },
       "datasetPreviewNameToCmdIdMap": {},
       "diffDeletes": [],
       "diffInserts": [],
       "displayType": "redashChart",
       "error": null,
       "errorDetails": null,
       "errorSummary": null,
       "errorTraceType": null,
       "finishTime": 0,
       "globalVars": {},
       "guid": "",
       "height": "auto",
       "hideCommandCode": false,
       "hideCommandResult": false,
       "iPythonMetadata": null,
       "inputWidgets": {},
       "isLockedInExamMode": false,
       "latestUser": "a user",
       "latestUserId": null,
       "listResultMetadata": null,
       "metadata": {},
       "nuid": "8216b06b-856f-42ce-b700-a4ccd3a92f85",
       "origId": 0,
       "parentHierarchy": [],
       "pivotAggregation": null,
       "pivotColumns": null,
       "position": 9.0,
       "resultDbfsErrorMessage": null,
       "resultDbfsStatus": "INLINED_IN_TREE",
       "results": null,
       "showCommandTitle": false,
       "startTime": 0,
       "state": "input",
       "streamStates": {},
       "subcommandOptions": {
        "queryPlan": {
         "groups": [
          {
           "column": "City",
           "type": "column"
          }
         ],
         "selects": [
          {
           "column": "City",
           "type": "column"
          },
          {
           "alias": "column_33b8638227",
           "args": [
            {
             "column": "2014 Population estimate",
             "type": "column"
            }
           ],
           "function": "SUM",
           "type": "function"
          }
         ]
        }
       },
       "submitTime": 0,
       "subtype": "tableResultSubCmd.visualization",
       "tableResultIndex": 0,
       "tableResultSettingsMap": {},
       "useConsistentColors": false,
       "version": "CommandV1",
       "width": "auto",
       "workflows": [],
       "xColumns": null,
       "yColumns": null
      }
     },
     "output_type": "display_data"
    }
   ],
   "source": [
    "filtered_df = df_selected.filter(df_selected[\"2014 Population estimate\"] > 1000000)\n",
    "\n",
    "# Get top 10 based on population\n",
    "top10_million_plus = filtered_df.orderBy(\"2014 Population estimate\", ascending=False).limit(10)\n",
    "\n",
    "# Display the result in Databricks\n",
    "display(top10_million_plus)"
   ]
  },
  {
   "cell_type": "code",
   "execution_count": 0,
   "metadata": {
    "application/vnd.databricks.v1+cell": {
     "cellMetadata": {
      "byteLimit": 2048000,
      "rowLimit": 10000
     },
     "inputWidgets": {},
     "nuid": "365cc0d1-a9f7-4746-b4a5-979069424b13",
     "showTitle": false,
     "tableResultSettingsMap": {},
     "title": ""
    }
   },
   "outputs": [
    {
     "output_type": "display_data",
     "data": {
      "text/html": [
       "<style scoped>\n",
       "  .table-result-container {\n",
       "    max-height: 300px;\n",
       "    overflow: auto;\n",
       "  }\n",
       "  table, th, td {\n",
       "    border: 1px solid black;\n",
       "    border-collapse: collapse;\n",
       "  }\n",
       "  th, td {\n",
       "    padding: 5px;\n",
       "  }\n",
       "  th {\n",
       "    text-align: left;\n",
       "  }\n",
       "</style><div class='table-result-container'><table class='table-result'><thead style='background-color: white'><tr><th>City</th><th>State</th><th>State Code</th><th>2014 Population estimate</th><th>2015 median sales price</th></tr></thead><tbody><tr><td>Birmingham</td><td>Alabama</td><td>AL</td><td>212247</td><td>162.9</td></tr><tr><td>Huntsville</td><td>Alabama</td><td>AL</td><td>188226</td><td>157.7</td></tr><tr><td>Mobile</td><td>Alabama</td><td>AL</td><td>194675</td><td>122.5</td></tr><tr><td>Montgomery</td><td>Alabama</td><td>AL</td><td>200481</td><td>129.0</td></tr><tr><td>Phoenix</td><td>Arizona</td><td>AZ</td><td>1537058</td><td>206.1</td></tr><tr><td>Tucson</td><td>Arizona</td><td>AZ</td><td>527972</td><td>178.1</td></tr><tr><td>Little Rock</td><td>Arkansas</td><td>AR</td><td>197706</td><td>131.8</td></tr><tr><td>Anaheim</td><td>California</td><td>CA</td><td>346997</td><td>685.7</td></tr><tr><td>Los Angeles</td><td>California</td><td>CA</td><td>3928864</td><td>434.7</td></tr><tr><td>Riverside</td><td>California</td><td>CA</td><td>319504</td><td>281.0</td></tr><tr><td>Sacramento</td><td>California</td><td>CA</td><td>485199</td><td>275.8</td></tr><tr><td>San Diego</td><td>California</td><td>CA</td><td>1381069</td><td>510.3</td></tr><tr><td>San Francisco[10]</td><td>California</td><td>CA</td><td>852469</td><td>748.3</td></tr><tr><td>San Jose</td><td>California</td><td>CA</td><td>1015785</td><td>900.0</td></tr><tr><td>Boulder</td><td>Colorado</td><td>CO</td><td>105112</td><td>442.2</td></tr><tr><td>Colorado Springs</td><td>Colorado</td><td>CO</td><td>445830</td><td>220.1</td></tr><tr><td>Denver[12]</td><td>Colorado</td><td>CO</td><td>663862</td><td>338.1</td></tr><tr><td>Bridgeport</td><td>Connecticut</td><td>CT</td><td>147612</td><td>342.7</td></tr><tr><td>Hartford</td><td>Connecticut</td><td>CT</td><td>124705</td><td>202.6</td></tr><tr><td>New Haven</td><td>Connecticut</td><td>CT</td><td>130282</td><td>205.1</td></tr><tr><td>Washington[13]</td><td>District of Columbia</td><td>DC</td><td>658893</td><td>367.8</td></tr><tr><td>Cape Coral</td><td>Florida</td><td>FL</td><td>169854</td><td>208.0</td></tr><tr><td>Gainesville</td><td>Florida</td><td>FL</td><td>128460</td><td>169.9</td></tr><tr><td>Jacksonville[9]</td><td>Florida</td><td>FL</td><td>853382</td><td>182.5</td></tr><tr><td>Lakeland</td><td>Florida</td><td>FL</td><td>102346</td><td>136.0</td></tr><tr><td>Miami</td><td>Florida</td><td>FL</td><td>430332</td><td>269.1</td></tr><tr><td>Palm Bay</td><td>Florida</td><td>FL</td><td>105838</td><td>145.0</td></tr><tr><td>Port St. Lucie</td><td>Florida</td><td>FL</td><td>174110</td><td>172.0</td></tr><tr><td>Tallahassee</td><td>Florida</td><td>FL</td><td>188107</td><td>170.5</td></tr><tr><td>Tampa</td><td>Florida</td><td>FL</td><td>358699</td><td>156.0</td></tr><tr><td>Atlanta</td><td>Georgia</td><td>GA</td><td>456002</td><td>158.0</td></tr><tr><td>Honolulu[2]</td><td>Hawai'i</td><td>HI</td><td>350399</td><td>699.3</td></tr><tr><td>Boise[22]</td><td>Idaho</td><td>ID</td><td>216282</td><td>178.7</td></tr><tr><td>Chicago</td><td>Illinois</td><td>IL</td><td>2722389</td><td>192.5</td></tr><tr><td>Peoria</td><td>Illinois</td><td>IL</td><td>115828</td><td>105.2</td></tr><tr><td>Rockford</td><td>Illinois</td><td>IL</td><td>149123</td><td>78.6</td></tr><tr><td>Springfield</td><td>Illinois</td><td>IL</td><td>116809</td><td>115.2</td></tr><tr><td>Fort Wayne</td><td>Indiana</td><td>IN</td><td>258522</td><td>106.3</td></tr><tr><td>Indianapolis[11]</td><td>Indiana</td><td>IN</td><td>848788</td><td>139.2</td></tr><tr><td>Cedar Rapids</td><td>Iowa</td><td>IA</td><td>129195</td><td>156.9</td></tr><tr><td>Davenport</td><td>Iowa</td><td>IA</td><td>102448</td><td>109.4</td></tr><tr><td>Topeka</td><td>Kansas</td><td>KS</td><td>127215</td><td>105.3</td></tr><tr><td>Wichita</td><td>Kansas</td><td>KS</td><td>388413</td><td>126.0</td></tr><tr><td>Lexington[18]</td><td>Kentucky</td><td>KY</td><td>310797</td><td>141.2</td></tr><tr><td>Louisville[16]</td><td>Kentucky</td><td>KY</td><td>612780</td><td>141.1</td></tr><tr><td>Baton Rouge[21]</td><td>Louisiana</td><td>LA</td><td>228895</td><td>177.2</td></tr><tr><td>Shreveport</td><td>Louisiana</td><td>LA</td><td>198242</td><td>151.6</td></tr><tr><td>Baltimore[15]</td><td>Maryland</td><td>MD</td><td>622793</td><td>223.1</td></tr><tr><td>Boston</td><td>Massachusetts</td><td>MA</td><td>655884</td><td>374.6</td></tr><tr><td>Springfield</td><td>Massachusetts</td><td>MA</td><td>153991</td><td>183.9</td></tr><tr><td>Worcester</td><td>Massachusetts</td><td>MA</td><td>183016</td><td>226.9</td></tr><tr><td>Lansing</td><td>Michigan</td><td>MI</td><td>114620</td><td>114.6</td></tr><tr><td>Minneapolis</td><td>Minnesota</td><td>MN</td><td>407207</td><td>209.4</td></tr><tr><td>Jackson</td><td>Mississippi</td><td>MS</td><td>171155</td><td>154.1</td></tr><tr><td>Kansas City</td><td>Missouri</td><td>MO</td><td>470800</td><td>153.0</td></tr><tr><td>Springfield</td><td>Missouri</td><td>MO</td><td>165378</td><td>116.5</td></tr><tr><td>Lincoln</td><td>Nebraska</td><td>NE</td><td>272996</td><td>150.2</td></tr><tr><td>Omaha</td><td>Nebraska</td><td>NE</td><td>446599</td><td>148.1</td></tr><tr><td>Las Vegas</td><td>Nevada</td><td>NV</td><td>613599</td><td>205.9</td></tr><tr><td>Reno</td><td>Nevada</td><td>NV</td><td>236995</td><td>268.7</td></tr><tr><td>Manchester</td><td>New Hampshire</td><td>NH</td><td>110448</td><td>237.4</td></tr><tr><td>Newark</td><td>New Jersey</td><td>NJ</td><td>280579</td><td>350.8</td></tr><tr><td>Albuquerque</td><td>New Mexico</td><td>NM</td><td>557169</td><td>172.2</td></tr><tr><td>Buffalo</td><td>New York</td><td>NY</td><td>258703</td><td>117.3</td></tr><tr><td>New York[6]</td><td>New York</td><td>NY</td><td>8491079</td><td>388.6</td></tr><tr><td>Rochester</td><td>New York</td><td>NY</td><td>209983</td><td>118.9</td></tr><tr><td>Syracuse</td><td>New York</td><td>NY</td><td>144263</td><td>118.3</td></tr><tr><td>Charlotte</td><td>North Carolina</td><td>NC</td><td>809958</td><td>197.2</td></tr><tr><td>Durham</td><td>North Carolina</td><td>NC</td><td>251893</td><td>196.9</td></tr><tr><td>Fayetteville</td><td>North Carolina</td><td>NC</td><td>203948</td><td>145.0</td></tr><tr><td>Greensboro</td><td>North Carolina</td><td>NC</td><td>282586</td><td>138.3</td></tr><tr><td>Raleigh</td><td>North Carolina</td><td>NC</td><td>439896</td><td>218.9</td></tr><tr><td>Wilmington</td><td>North Carolina</td><td>NC</td><td>113657</td><td>197.5</td></tr><tr><td>Winston�Salem</td><td>North Carolina</td><td>NC</td><td>239269</td><td>138.6</td></tr><tr><td>Fargo</td><td>North Dakota</td><td>ND</td><td>115863</td><td>180.0</td></tr><tr><td>Akron</td><td>Ohio</td><td>OH</td><td>197859</td><td>95.4</td></tr><tr><td>Cincinnati</td><td>Ohio</td><td>OH</td><td>298165</td><td>135.0</td></tr><tr><td>Cleveland</td><td>Ohio</td><td>OH</td><td>389521</td><td>105.9</td></tr><tr><td>Columbus</td><td>Ohio</td><td>OH</td><td>835957</td><td>149.9</td></tr><tr><td>Dayton</td><td>Ohio</td><td>OH</td><td>141003</td><td>107.2</td></tr><tr><td>Toledo</td><td>Ohio</td><td>OH</td><td>281031</td><td>83.8</td></tr><tr><td>Tulsa</td><td>Oklahoma</td><td>OK</td><td>399682</td><td>145.1</td></tr><tr><td>Eugene</td><td>Oregon</td><td>OR</td><td>160561</td><td>211.3</td></tr><tr><td>Portland</td><td>Oregon</td><td>OR</td><td>619360</td><td>289.4</td></tr><tr><td>Salem</td><td>Oregon</td><td>OR</td><td>161637</td><td>193.9</td></tr><tr><td>Allentown</td><td>Pennsylvania</td><td>PA</td><td>119104</td><td>162.7</td></tr><tr><td>Philadelphia[8]</td><td>Pennsylvania</td><td>PA</td><td>1560297</td><td>204.9</td></tr><tr><td>Providence</td><td>Rhode Island</td><td>RI</td><td>179154</td><td>233.3</td></tr><tr><td>Sioux Falls</td><td>South Dakota</td><td>SD</td><td>168586</td><td>159.5</td></tr><tr><td>Chattanooga</td><td>Tennessee</td><td>TN</td><td>173778</td><td>143.6</td></tr><tr><td>Knoxville</td><td>Tennessee</td><td>TN</td><td>184281</td><td>149.2</td></tr><tr><td>Memphis</td><td>Tennessee</td><td>TN</td><td>656861</td><td>132.1</td></tr><tr><td>Nashville[14]</td><td>Tennessee</td><td>TN</td><td>644014</td><td>186.4</td></tr><tr><td>Abilene</td><td>Texas</td><td>TX</td><td>120958</td><td>145.7</td></tr><tr><td>Amarillo</td><td>Texas</td><td>TX</td><td>197254</td><td>144.4</td></tr><tr><td>Austin</td><td>Texas</td><td>TX</td><td>912791</td><td>249.1</td></tr><tr><td>Beaumont</td><td>Texas</td><td>TX</td><td>117585</td><td>133.3</td></tr><tr><td>Corpus Christi</td><td>Texas</td><td>TX</td><td>320434</td><td>172.9</td></tr><tr><td>Dallas</td><td>Texas</td><td>TX</td><td>1281047</td><td>192.5</td></tr><tr><td>El Paso</td><td>Texas</td><td>TX</td><td>679036</td><td>138.4</td></tr><tr><td>Houston[7]</td><td>Texas</td><td>TX</td><td>2239558</td><td>200.3</td></tr><tr><td>San Antonio</td><td>Texas</td><td>TX</td><td>1436697</td><td>184.7</td></tr><tr><td>Salt Lake City</td><td>Utah</td><td>UT</td><td>190884</td><td>243.3</td></tr><tr><td>Richmond[15]</td><td>Virginia</td><td>VA</td><td>217853</td><td>212.5</td></tr><tr><td>Virginia Beach[15]</td><td>Virginia</td><td>VA</td><td>450980</td><td>190.0</td></tr><tr><td>Seattle</td><td>Washington</td><td>WA</td><td>668342</td><td>352.4</td></tr><tr><td>Spokane</td><td>Washington</td><td>WA</td><td>212052</td><td>180.2</td></tr><tr><td>Madison</td><td>Wisconsin</td><td>WI</td><td>245691</td><td>226.2</td></tr><tr><td>Milwaukee</td><td>Wisconsin</td><td>WI</td><td>599642</td><td>195.4</td></tr></tbody></table></div>"
      ]
     },
     "metadata": {
      "application/vnd.databricks.v1+output": {
       "addedWidgets": {},
       "aggData": [],
       "aggError": "",
       "aggOverflow": false,
       "aggSchema": [],
       "aggSeriesLimitReached": false,
       "aggType": "",
       "arguments": {},
       "columnCustomDisplayInfos": {},
       "data": [
        [
         "Birmingham",
         "Alabama",
         "AL",
         212247,
         162.9
        ],
        [
         "Huntsville",
         "Alabama",
         "AL",
         188226,
         157.7
        ],
        [
         "Mobile",
         "Alabama",
         "AL",
         194675,
         122.5
        ],
        [
         "Montgomery",
         "Alabama",
         "AL",
         200481,
         129.0
        ],
        [
         "Phoenix",
         "Arizona",
         "AZ",
         1537058,
         206.1
        ],
        [
         "Tucson",
         "Arizona",
         "AZ",
         527972,
         178.1
        ],
        [
         "Little Rock",
         "Arkansas",
         "AR",
         197706,
         131.8
        ],
        [
         "Anaheim",
         "California",
         "CA",
         346997,
         685.7
        ],
        [
         "Los Angeles",
         "California",
         "CA",
         3928864,
         434.7
        ],
        [
         "Riverside",
         "California",
         "CA",
         319504,
         281.0
        ],
        [
         "Sacramento",
         "California",
         "CA",
         485199,
         275.8
        ],
        [
         "San Diego",
         "California",
         "CA",
         1381069,
         510.3
        ],
        [
         "San Francisco[10]",
         "California",
         "CA",
         852469,
         748.3
        ],
        [
         "San Jose",
         "California",
         "CA",
         1015785,
         900.0
        ],
        [
         "Boulder",
         "Colorado",
         "CO",
         105112,
         442.2
        ],
        [
         "Colorado Springs",
         "Colorado",
         "CO",
         445830,
         220.1
        ],
        [
         "Denver[12]",
         "Colorado",
         "CO",
         663862,
         338.1
        ],
        [
         "Bridgeport",
         "Connecticut",
         "CT",
         147612,
         342.7
        ],
        [
         "Hartford",
         "Connecticut",
         "CT",
         124705,
         202.6
        ],
        [
         "New Haven",
         "Connecticut",
         "CT",
         130282,
         205.1
        ],
        [
         "Washington[13]",
         "District of Columbia",
         "DC",
         658893,
         367.8
        ],
        [
         "Cape Coral",
         "Florida",
         "FL",
         169854,
         208.0
        ],
        [
         "Gainesville",
         "Florida",
         "FL",
         128460,
         169.9
        ],
        [
         "Jacksonville[9]",
         "Florida",
         "FL",
         853382,
         182.5
        ],
        [
         "Lakeland",
         "Florida",
         "FL",
         102346,
         136.0
        ],
        [
         "Miami",
         "Florida",
         "FL",
         430332,
         269.1
        ],
        [
         "Palm Bay",
         "Florida",
         "FL",
         105838,
         145.0
        ],
        [
         "Port St. Lucie",
         "Florida",
         "FL",
         174110,
         172.0
        ],
        [
         "Tallahassee",
         "Florida",
         "FL",
         188107,
         170.5
        ],
        [
         "Tampa",
         "Florida",
         "FL",
         358699,
         156.0
        ],
        [
         "Atlanta",
         "Georgia",
         "GA",
         456002,
         158.0
        ],
        [
         "Honolulu[2]",
         "Hawai'i",
         "HI",
         350399,
         699.3
        ],
        [
         "Boise[22]",
         "Idaho",
         "ID",
         216282,
         178.7
        ],
        [
         "Chicago",
         "Illinois",
         "IL",
         2722389,
         192.5
        ],
        [
         "Peoria",
         "Illinois",
         "IL",
         115828,
         105.2
        ],
        [
         "Rockford",
         "Illinois",
         "IL",
         149123,
         78.6
        ],
        [
         "Springfield",
         "Illinois",
         "IL",
         116809,
         115.2
        ],
        [
         "Fort Wayne",
         "Indiana",
         "IN",
         258522,
         106.3
        ],
        [
         "Indianapolis[11]",
         "Indiana",
         "IN",
         848788,
         139.2
        ],
        [
         "Cedar Rapids",
         "Iowa",
         "IA",
         129195,
         156.9
        ],
        [
         "Davenport",
         "Iowa",
         "IA",
         102448,
         109.4
        ],
        [
         "Topeka",
         "Kansas",
         "KS",
         127215,
         105.3
        ],
        [
         "Wichita",
         "Kansas",
         "KS",
         388413,
         126.0
        ],
        [
         "Lexington[18]",
         "Kentucky",
         "KY",
         310797,
         141.2
        ],
        [
         "Louisville[16]",
         "Kentucky",
         "KY",
         612780,
         141.1
        ],
        [
         "Baton Rouge[21]",
         "Louisiana",
         "LA",
         228895,
         177.2
        ],
        [
         "Shreveport",
         "Louisiana",
         "LA",
         198242,
         151.6
        ],
        [
         "Baltimore[15]",
         "Maryland",
         "MD",
         622793,
         223.1
        ],
        [
         "Boston",
         "Massachusetts",
         "MA",
         655884,
         374.6
        ],
        [
         "Springfield",
         "Massachusetts",
         "MA",
         153991,
         183.9
        ],
        [
         "Worcester",
         "Massachusetts",
         "MA",
         183016,
         226.9
        ],
        [
         "Lansing",
         "Michigan",
         "MI",
         114620,
         114.6
        ],
        [
         "Minneapolis",
         "Minnesota",
         "MN",
         407207,
         209.4
        ],
        [
         "Jackson",
         "Mississippi",
         "MS",
         171155,
         154.1
        ],
        [
         "Kansas City",
         "Missouri",
         "MO",
         470800,
         153.0
        ],
        [
         "Springfield",
         "Missouri",
         "MO",
         165378,
         116.5
        ],
        [
         "Lincoln",
         "Nebraska",
         "NE",
         272996,
         150.2
        ],
        [
         "Omaha",
         "Nebraska",
         "NE",
         446599,
         148.1
        ],
        [
         "Las Vegas",
         "Nevada",
         "NV",
         613599,
         205.9
        ],
        [
         "Reno",
         "Nevada",
         "NV",
         236995,
         268.7
        ],
        [
         "Manchester",
         "New Hampshire",
         "NH",
         110448,
         237.4
        ],
        [
         "Newark",
         "New Jersey",
         "NJ",
         280579,
         350.8
        ],
        [
         "Albuquerque",
         "New Mexico",
         "NM",
         557169,
         172.2
        ],
        [
         "Buffalo",
         "New York",
         "NY",
         258703,
         117.3
        ],
        [
         "New York[6]",
         "New York",
         "NY",
         8491079,
         388.6
        ],
        [
         "Rochester",
         "New York",
         "NY",
         209983,
         118.9
        ],
        [
         "Syracuse",
         "New York",
         "NY",
         144263,
         118.3
        ],
        [
         "Charlotte",
         "North Carolina",
         "NC",
         809958,
         197.2
        ],
        [
         "Durham",
         "North Carolina",
         "NC",
         251893,
         196.9
        ],
        [
         "Fayetteville",
         "North Carolina",
         "NC",
         203948,
         145.0
        ],
        [
         "Greensboro",
         "North Carolina",
         "NC",
         282586,
         138.3
        ],
        [
         "Raleigh",
         "North Carolina",
         "NC",
         439896,
         218.9
        ],
        [
         "Wilmington",
         "North Carolina",
         "NC",
         113657,
         197.5
        ],
        [
         "Winston�Salem",
         "North Carolina",
         "NC",
         239269,
         138.6
        ],
        [
         "Fargo",
         "North Dakota",
         "ND",
         115863,
         180.0
        ],
        [
         "Akron",
         "Ohio",
         "OH",
         197859,
         95.4
        ],
        [
         "Cincinnati",
         "Ohio",
         "OH",
         298165,
         135.0
        ],
        [
         "Cleveland",
         "Ohio",
         "OH",
         389521,
         105.9
        ],
        [
         "Columbus",
         "Ohio",
         "OH",
         835957,
         149.9
        ],
        [
         "Dayton",
         "Ohio",
         "OH",
         141003,
         107.2
        ],
        [
         "Toledo",
         "Ohio",
         "OH",
         281031,
         83.8
        ],
        [
         "Tulsa",
         "Oklahoma",
         "OK",
         399682,
         145.1
        ],
        [
         "Eugene",
         "Oregon",
         "OR",
         160561,
         211.3
        ],
        [
         "Portland",
         "Oregon",
         "OR",
         619360,
         289.4
        ],
        [
         "Salem",
         "Oregon",
         "OR",
         161637,
         193.9
        ],
        [
         "Allentown",
         "Pennsylvania",
         "PA",
         119104,
         162.7
        ],
        [
         "Philadelphia[8]",
         "Pennsylvania",
         "PA",
         1560297,
         204.9
        ],
        [
         "Providence",
         "Rhode Island",
         "RI",
         179154,
         233.3
        ],
        [
         "Sioux Falls",
         "South Dakota",
         "SD",
         168586,
         159.5
        ],
        [
         "Chattanooga",
         "Tennessee",
         "TN",
         173778,
         143.6
        ],
        [
         "Knoxville",
         "Tennessee",
         "TN",
         184281,
         149.2
        ],
        [
         "Memphis",
         "Tennessee",
         "TN",
         656861,
         132.1
        ],
        [
         "Nashville[14]",
         "Tennessee",
         "TN",
         644014,
         186.4
        ],
        [
         "Abilene",
         "Texas",
         "TX",
         120958,
         145.7
        ],
        [
         "Amarillo",
         "Texas",
         "TX",
         197254,
         144.4
        ],
        [
         "Austin",
         "Texas",
         "TX",
         912791,
         249.1
        ],
        [
         "Beaumont",
         "Texas",
         "TX",
         117585,
         133.3
        ],
        [
         "Corpus Christi",
         "Texas",
         "TX",
         320434,
         172.9
        ],
        [
         "Dallas",
         "Texas",
         "TX",
         1281047,
         192.5
        ],
        [
         "El Paso",
         "Texas",
         "TX",
         679036,
         138.4
        ],
        [
         "Houston[7]",
         "Texas",
         "TX",
         2239558,
         200.3
        ],
        [
         "San Antonio",
         "Texas",
         "TX",
         1436697,
         184.7
        ],
        [
         "Salt Lake City",
         "Utah",
         "UT",
         190884,
         243.3
        ],
        [
         "Richmond[15]",
         "Virginia",
         "VA",
         217853,
         212.5
        ],
        [
         "Virginia Beach[15]",
         "Virginia",
         "VA",
         450980,
         190.0
        ],
        [
         "Seattle",
         "Washington",
         "WA",
         668342,
         352.4
        ],
        [
         "Spokane",
         "Washington",
         "WA",
         212052,
         180.2
        ],
        [
         "Madison",
         "Wisconsin",
         "WI",
         245691,
         226.2
        ],
        [
         "Milwaukee",
         "Wisconsin",
         "WI",
         599642,
         195.4
        ]
       ],
       "datasetInfos": [],
       "dbfsResultPath": null,
       "isJsonSchema": true,
       "metadata": {},
       "overflow": false,
       "plotOptions": {
        "customPlotOptions": {},
        "displayType": "table",
        "pivotAggregation": null,
        "pivotColumns": null,
        "xColumns": null,
        "yColumns": null
       },
       "removedWidgets": [],
       "schema": [
        {
         "metadata": "{}",
         "name": "City",
         "type": "\"string\""
        },
        {
         "metadata": "{}",
         "name": "State",
         "type": "\"string\""
        },
        {
         "metadata": "{}",
         "name": "State Code",
         "type": "\"string\""
        },
        {
         "metadata": "{}",
         "name": "2014 Population estimate",
         "type": "\"integer\""
        },
        {
         "metadata": "{}",
         "name": "2015 median sales price",
         "type": "\"double\""
        }
       ],
       "type": "table"
      }
     },
     "output_type": "display_data"
    }
   ],
   "source": [
    "df_new = df_selected.dropna()\n",
    "display(df_new)"
   ]
  },
  {
   "cell_type": "code",
   "execution_count": 0,
   "metadata": {
    "application/vnd.databricks.v1+cell": {
     "cellMetadata": {},
     "inputWidgets": {},
     "nuid": "d4487704-cdda-4f67-b998-819cb39d8aa4",
     "showTitle": false,
     "tableResultSettingsMap": {},
     "title": ""
    }
   },
   "outputs": [],
   "source": []
  }
 ],
 "metadata": {
  "application/vnd.databricks.v1+notebook": {
   "computePreferences": null,
   "dashboards": [],
   "environmentMetadata": {
    "base_environment": "",
    "environment_version": "1"
   },
   "inputWidgetPreferences": null,
   "language": "python",
   "notebookMetadata": {
    "pythonIndentUnit": 4
   },
   "notebookName": "PopulationPriceAnalysis 24-04-25",
   "widgets": {}
  }
 },
 "nbformat": 4,
 "nbformat_minor": 0
}